{
  "cells": [
    {
      "cell_type": "code",
      "source": [
        "import numpy as np\n",
        "import scipy as sp\n",
        "import pandas as pd\n",
        "import os\n",
        "import pickle\n",
        "import json\n",
        "import matplotlib.pyplot as plt\n",
        "\n",
        "from collections import defaultdict\n",
        "from pathlib import Path\n",
        "from scipy import interpolate\n",
        "from scipy import stats\n",
        "from sklearn.cross_decomposition import PLSRegression"
      ],
      "outputs": [],
      "execution_count": 8,
      "metadata": {
        "execution": {
          "iopub.status.busy": "2020-05-15T03:36:58.918Z",
          "iopub.execute_input": "2020-05-15T03:36:58.923Z",
          "iopub.status.idle": "2020-05-15T03:36:58.928Z",
          "shell.execute_reply": "2020-05-15T03:36:58.935Z"
        }
      }
    },
    {
      "cell_type": "code",
      "source": [
        "filename = 'cell_count_int_std_p_value.csv'\n",
        "df = pd.read_csv(filename)\n",
        "\n",
        "pos = [f'gfap_positive_Y{i + 1}' for i in range(10)]\n",
        "neg = [f'gfap_negative_Y{i + 1}' for i in range(10)]\n",
        "pos_samples = df[pos].values\n",
        "neg_samples = df[neg].values"
      ],
      "outputs": [],
      "execution_count": 9,
      "metadata": {
        "collapsed": false,
        "outputHidden": false,
        "inputHidden": false,
        "execution": {
          "iopub.status.busy": "2020-05-15T03:37:00.106Z",
          "iopub.execute_input": "2020-05-15T03:37:00.110Z",
          "iopub.status.idle": "2020-05-15T03:37:00.169Z",
          "shell.execute_reply": "2020-05-15T03:37:00.173Z"
        }
      }
    },
    {
      "cell_type": "code",
      "source": [
        "X = np.hstack([pos_samples, neg_samples]).T\n",
        "y = np.array([1] * 10 + [0] * 10)\n",
        "pslr = PLSRegression(n_components=2)\n",
        "X_score, y_score = pslr.fit_transform(X, y)"
      ],
      "outputs": [],
      "execution_count": 10,
      "metadata": {
        "collapsed": false,
        "outputHidden": false,
        "inputHidden": false,
        "execution": {
          "iopub.status.busy": "2020-05-15T03:37:01.719Z",
          "iopub.execute_input": "2020-05-15T03:37:01.724Z",
          "iopub.status.idle": "2020-05-15T03:37:01.730Z",
          "shell.execute_reply": "2020-05-15T03:37:01.740Z"
        }
      }
    },
    {
      "cell_type": "markdown",
      "source": [
        "Visualization on the two principle components (LV):"
      ],
      "metadata": {}
    },
    {
      "cell_type": "code",
      "source": [
        "x1 = X_score[y == 1]\n",
        "x0 = X_score[y == 0]\n",
        "plt.figure()\n",
        "plt.scatter(x1[:, 0], x1[:, 1], label='GFAP_pos')\n",
        "plt.scatter(x0[:, 0], x0[:, 1], label='GFAP_neg')\n",
        "plt.xlabel('Scores on LV 1')\n",
        "plt.ylabel('Scores on LV 2')\n",
        "plt.legend()\n",
        "plt.show()"
      ],
      "outputs": [
        {
          "output_type": "display_data",
          "data": {
            "text/plain": [
              "<Figure size 432x288 with 1 Axes>"
            ],
            "image/png": "[encoded data removed]"
          },
          "metadata": {
            "needs_background": "light"
          }
        }
      ],
      "execution_count": 11,
      "metadata": {
        "collapsed": false,
        "outputHidden": false,
        "inputHidden": false,
        "execution": {
          "iopub.status.busy": "2020-05-15T03:37:03.329Z",
          "iopub.execute_input": "2020-05-15T03:37:03.335Z",
          "iopub.status.idle": "2020-05-15T03:37:03.483Z",
          "shell.execute_reply": "2020-05-15T03:37:03.493Z"
        }
      }
    },
    {
      "cell_type": "markdown",
      "source": [
        "Each LV is a linear composition of all the peaks."
      ],
      "metadata": {}
    },
    {
      "cell_type": "code",
      "source": [
        "# The first LV\n",
        "plt.figure()\n",
        "plt.bar(df['m/z'].values, pslr.x_loadings_[:, 0], width=2)\n",
        "plt.title('First LV')\n",
        "plt.xlabel('m/z')\n",
        "plt.ylabel('coefficient')\n",
        "plt.show()\n",
        "plt.figure()\n",
        "plt.bar(df['m/z'].values, pslr.x_loadings_[:, 1], width=2)\n",
        "plt.title('Second LV')\n",
        "plt.xlabel('m/z')\n",
        "plt.ylabel('coefficient')\n",
        "plt.show()"
      ],
      "outputs": [
        {
          "output_type": "display_data",
          "data": {
            "text/plain": [
              "<Figure size 432x288 with 1 Axes>"
            ],
            "image/png": "[encoded data removed]"
          },
          "metadata": {
            "needs_background": "light"
          }
        },
        {
          "output_type": "display_data",
          "data": {
            "text/plain": [
              "<Figure size 432x288 with 1 Axes>"
            ],
            "image/png": "[encoded data removed]"
          },
          "metadata": {
            "needs_background": "light"
          }
        }
      ],
      "execution_count": 12,
      "metadata": {
        "collapsed": false,
        "outputHidden": false,
        "inputHidden": false,
        "execution": {
          "iopub.status.busy": "2020-05-15T03:37:06.156Z",
          "iopub.execute_input": "2020-05-15T03:37:06.162Z",
          "iopub.status.idle": "2020-05-15T03:37:23.393Z",
          "shell.execute_reply": "2020-05-15T03:37:23.401Z"
        }
      }
    },
    {
      "cell_type": "code",
      "source": [
        "loading = np.hstack([df['m/z'].values.reshape([-1, 1]), pslr.x_loadings_])\n",
        "loading = pd.DataFrame(loading, columns=['m/z', 'loading score on LV1', 'loading score on LV2'])\n",
        "loading.to_csv('loading_score.csv')"
      ],
      "outputs": [],
      "execution_count": 8,
      "metadata": {
        "collapsed": false,
        "outputHidden": false,
        "inputHidden": false
      }
    }
  ],
  "metadata": {
    "kernelspec": {
      "name": "python3",
      "language": "python",
      "display_name": "Python 3"
    },
    "kernel_info": {
      "name": "python3"
    },
    "language_info": {
      "name": "python",
      "version": "3.7.3",
      "mimetype": "text/x-python",
      "codemirror_mode": {
        "name": "ipython",
        "version": 3
      },
      "pygments_lexer": "ipython3",
      "nbconvert_exporter": "python",
      "file_extension": ".py"
    },
    "nteract": {
      "version": "0.23.1"
    }
  },
  "nbformat": 4,
  "nbformat_minor": 0
}